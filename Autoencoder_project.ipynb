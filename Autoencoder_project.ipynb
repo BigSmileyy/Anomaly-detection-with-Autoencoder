{
  "cells": [
    {
      "cell_type": "code",
      "execution_count": 1,
      "metadata": {
        "id": "hwO9zZ4sZ40i",
        "colab": {
          "base_uri": "https://localhost:8080/"
        },
        "outputId": "7cdec5ee-6948-452e-c275-03117bb79ca9"
      },
      "outputs": [
        {
          "output_type": "execute_result",
          "data": {
            "text/plain": [
              "<torch._C.Generator at 0x7f908c1c1790>"
            ]
          },
          "metadata": {},
          "execution_count": 1
        }
      ],
      "source": [
        "import torch\n",
        "import torchvision\n",
        "import torch.nn as nn\n",
        "import torch.nn.functional as F\n",
        "import torch.optim as optim\n",
        "import torchvision.transforms as transforms\n",
        "\n",
        "\n",
        "import numpy as np\n",
        "import pandas as pd\n",
        "\n",
        "import matplotlib.pyplot as plt\n",
        "import seaborn as sns\n",
        "\n",
        "sns.set_style(\"whitegrid\")\n",
        "\n",
        "from itertools import chain, product\n",
        "\n",
        "use_cuda = torch.cuda.is_available()\n",
        "device = torch.device(\"cuda\" if use_cuda else \"cpu\")\n",
        "torch.manual_seed(42)"
      ]
    },
    {
      "cell_type": "code",
      "source": [
        "device"
      ],
      "metadata": {
        "colab": {
          "base_uri": "https://localhost:8080/"
        },
        "id": "dLHEfgchknHC",
        "outputId": "660b1cd1-f31d-43df-8a37-462656ca67b7"
      },
      "execution_count": 2,
      "outputs": [
        {
          "output_type": "execute_result",
          "data": {
            "text/plain": [
              "device(type='cuda')"
            ]
          },
          "metadata": {},
          "execution_count": 2
        }
      ]
    },
    {
      "cell_type": "code",
      "execution_count": 3,
      "metadata": {
        "id": "oEgGFVm8Z40k"
      },
      "outputs": [],
      "source": [
        "def plot_manifold(latent_r, labels=None, alpha=0.9, classes=None):\n",
        "    plt.figure(figsize=(10, 10))\n",
        "    if labels is None:\n",
        "        plt.scatter(latent_r[:, 0], latent_r[:, 1], cmap=\"tab10\", alpha=alpha)\n",
        "    else:\n",
        "        plt.scatter(latent_r[:, 0], latent_r[:, 1], c=labels, cmap=\"tab10\", alpha=alpha)\n",
        "        cbar = plt.colorbar()\n",
        "    if classes:\n",
        "        cbar.ax.set_yticklabels(classes)\n",
        "    plt.show()\n",
        "\n",
        "\n",
        "# plotting reconstructed and noised images\n",
        "def plot_samples(*args, invert_colors=True, digit_size=28, name=None):\n",
        "    args = [x.squeeze() for x in args]\n",
        "    n = min([x.shape[0] for x in args])\n",
        "    figure = np.zeros((digit_size * len(args), digit_size * n))\n",
        "\n",
        "    for i in range(n):\n",
        "        for j in range(len(args)):\n",
        "            figure[\n",
        "                j * digit_size : (j + 1) * digit_size,\n",
        "                i * digit_size : (i + 1) * digit_size,\n",
        "            ] = args[j][i].squeeze()\n",
        "\n",
        "    if invert_colors:\n",
        "        figure = 1 - figure\n",
        "\n",
        "    plt.figure(figsize=(2 * n, 2 * len(args)))\n",
        "    plt.imshow(figure, cmap=\"Greys_r\", clim=(0, 1))\n",
        "\n",
        "    plt.grid(False)\n",
        "    ax = plt.gca()\n",
        "    ax.get_xaxis().set_visible(False)\n",
        "    ax.get_yaxis().set_visible(False)\n",
        "    if name is not None:\n",
        "        plt.savefig(name)\n",
        "    plt.show()\n",
        "\n",
        "\n",
        "def train(\n",
        "    encoder,\n",
        "    decoder,\n",
        "    loader,\n",
        "    optimizer,\n",
        "    single_pass_handler,\n",
        "    loss_handler,\n",
        "    epoch,\n",
        "    log_interval=500,\n",
        "):\n",
        "    for batch_idx, (data, lab) in enumerate(loader):\n",
        "        batch_size = data.size(0)\n",
        "        optimizer.zero_grad()\n",
        "        data = data.to(device)\n",
        "        lab = lab.to(device)\n",
        "\n",
        "        latent, output = single_pass_handler(encoder, decoder, data, lab)\n",
        "\n",
        "        loss = loss_handler(data, output, latent)\n",
        "        loss.backward()\n",
        "        optimizer.step()\n",
        "        if batch_idx % log_interval == 0:\n",
        "            print(\n",
        "                \"Train Epoch: {} [{}/{} ({:.0f}%)]\\tLoss: {:.6f}\".format(\n",
        "                    epoch,\n",
        "                    batch_idx * len(data),\n",
        "                    len(loader.dataset),\n",
        "                    100.0 * batch_idx / len(loader),\n",
        "                    loss.item(),\n",
        "                )\n",
        "            )\n",
        "\n",
        "\n",
        "# return reconstructed image, use to compute loss\n",
        "def ae_pass_handler(encoder, decoder, data, *args, **kwargs):\n",
        "    latent = encoder(data)\n",
        "    recons = decoder(latent)\n",
        "    return latent, recons\n",
        "\n",
        "\n",
        "# loss function\n",
        "def ae_loss_handler(data, recons, *args, **kwargs):\n",
        "    return F.binary_cross_entropy(recons, data)\n",
        "\n",
        "\n",
        "# return result in numpy to visualization\n",
        "def run_eval(\n",
        "    encoder,\n",
        "    decoder,\n",
        "    loader,\n",
        "    single_pass_handler,\n",
        "    return_real=True,\n",
        "    return_recontr=True,\n",
        "    return_latent=True,\n",
        "    return_labels=True,\n",
        "):\n",
        "\n",
        "    if return_real:\n",
        "        real = []\n",
        "    if return_recontr:\n",
        "        reconstr = []\n",
        "    if return_latent:\n",
        "        latent = []\n",
        "    if return_labels:\n",
        "        labels = []\n",
        "    with torch.no_grad():\n",
        "        for batch_idx, (data, lab) in enumerate(loader):\n",
        "            if return_labels:\n",
        "                labels.append(lab.numpy())\n",
        "            if return_real:\n",
        "                real.append(data.numpy())\n",
        "\n",
        "            data = data.to(device)\n",
        "            lab = lab.to(device)\n",
        "            rep, rec = single_pass_handler(encoder, decoder, data, lab)\n",
        "            if return_latent:\n",
        "                latent.append(rep.cpu().numpy())\n",
        "            if return_recontr:\n",
        "                reconstr.append(rec.cpu().numpy())\n",
        "\n",
        "    result = {}\n",
        "    if return_real:\n",
        "        real = np.concatenate(real)\n",
        "        result[\"real\"] = real.squeeze()\n",
        "    if return_latent:\n",
        "        latent = np.concatenate(latent)\n",
        "        result[\"latent\"] = latent\n",
        "    if return_recontr:\n",
        "        reconstr = np.concatenate(reconstr)\n",
        "        result[\"reconstr\"] = reconstr.squeeze()\n",
        "    if return_labels:\n",
        "        labels = np.concatenate(labels)\n",
        "        result[\"labels\"] = labels\n",
        "    return result"
      ]
    },
    {
      "cell_type": "code",
      "execution_count": 4,
      "metadata": {
        "id": "GdoqcT-NZ40l"
      },
      "outputs": [],
      "source": [
        "import torch.nn as nn\n",
        "\n",
        "# autoencoder model\n",
        "class Encoder(nn.Module):\n",
        "    def __init__(self, latent_size):\n",
        "        super().__init__()\n",
        "        self.latent_size = latent_size\n",
        "        hidden_dims = [32, 64, 128, 256, 512]\n",
        "\n",
        "        # Build Encoder\n",
        "        modules = []\n",
        "        in_channels = 1\n",
        "        for h_dim in hidden_dims[:-1]:\n",
        "            modules.append(\n",
        "                nn.Sequential(\n",
        "                    nn.Conv2d(\n",
        "                        in_channels=in_channels,\n",
        "                        out_channels=h_dim,\n",
        "                        kernel_size=3,\n",
        "                        stride=2,\n",
        "                        padding=1,\n",
        "                    ),\n",
        "                    nn.BatchNorm2d(h_dim),\n",
        "                    nn.LeakyReLU(),\n",
        "                )\n",
        "            )\n",
        "            in_channels = h_dim\n",
        "\n",
        "        modules.append(\n",
        "            nn.Sequential(\n",
        "                nn.Conv2d(in_channels=256, out_channels=512, kernel_size=1),\n",
        "                nn.BatchNorm2d(512),\n",
        "                nn.LeakyReLU(),\n",
        "            )\n",
        "        )\n",
        "        modules.append(nn.Flatten())\n",
        "        modules.append(nn.Linear(hidden_dims[-1] * 4, latent_size))\n",
        "\n",
        "        self.encoder = nn.Sequential(*modules)\n",
        "\n",
        "    def forward(self, x):\n",
        "        x = self.encoder(x)\n",
        "        return x\n",
        "\n",
        "\n",
        "class Decoder(nn.Module):\n",
        "    def __init__(self, latent_size):\n",
        "        super().__init__()\n",
        "\n",
        "        hidden_dims = [512, 256, 128, 64, 32]\n",
        "        self.linear = nn.Linear(in_features=latent_size, out_features=hidden_dims[0])\n",
        "\n",
        "        modules = []\n",
        "        for i in range(len(hidden_dims) - 1):\n",
        "            modules.append(\n",
        "                nn.Sequential(\n",
        "                    nn.ConvTranspose2d(\n",
        "                        hidden_dims[i],\n",
        "                        hidden_dims[i + 1],\n",
        "                        kernel_size=3,\n",
        "                        stride=2,\n",
        "                        padding=1,\n",
        "                        output_padding=1,\n",
        "                    ),\n",
        "                    nn.BatchNorm2d(hidden_dims[i + 1]),\n",
        "                    nn.LeakyReLU(),\n",
        "                )\n",
        "            )\n",
        "\n",
        "        modules.append(\n",
        "            nn.Sequential(\n",
        "                nn.ConvTranspose2d(\n",
        "                    hidden_dims[-1],\n",
        "                    hidden_dims[-1],\n",
        "                    kernel_size=3,\n",
        "                    stride=2,\n",
        "                    padding=1,\n",
        "                    output_padding=1,\n",
        "                ),\n",
        "                nn.BatchNorm2d(hidden_dims[-1]),\n",
        "                nn.LeakyReLU(),\n",
        "                nn.Conv2d(hidden_dims[-1], out_channels=1, kernel_size=7, padding=1),\n",
        "                nn.Sigmoid(),\n",
        "            )\n",
        "        )\n",
        "\n",
        "        self.decoder = nn.Sequential(*modules)\n",
        "\n",
        "    def forward(self, x):\n",
        "        x = self.linear(x)\n",
        "        x = x.view(-1, 512, 1, 1)\n",
        "        x = self.decoder(x)\n",
        "        return x"
      ]
    },
    {
      "cell_type": "code",
      "execution_count": 5,
      "metadata": {
        "id": "s3mPJTXzZ40u"
      },
      "outputs": [],
      "source": [
        "from IPython.display import clear_output\n",
        "\n",
        "!pip install --upgrade git+https://github.com/MedMNIST/MedMNIST.git\n",
        "clear_output()"
      ]
    },
    {
      "cell_type": "code",
      "execution_count": 6,
      "metadata": {
        "id": "tWUGQraxZ40v",
        "colab": {
          "base_uri": "https://localhost:8080/",
          "height": 368,
          "referenced_widgets": [
            "672b90656dbb45aa87fc1e33d92ed3d8",
            "1e74f2e6d7cf44fda631ece51c351b18",
            "9f787d312462432e97009ae2164799ab",
            "30d471eb9f19493096b81bcc61930af7",
            "41627873ba134f4d96b940f15c220eb1",
            "16b0a10cc7244ea1a48374da5d7e6c01",
            "631302c199204421afd4eca5b3f8ecbe",
            "6e1bf2d80c0f4a198e5cf4f83b428cbd",
            "7fcd82be85a44efe978e7d80551a7136",
            "5f8afe439d6b4bb7b6a782f606dc01cf",
            "e8d66e794b4d4cf7abc4ff792fcac05d"
          ]
        },
        "outputId": "41c0a1ad-295a-4b47-b4bc-66613c9fe9d6"
      },
      "outputs": [
        {
          "output_type": "stream",
          "name": "stdout",
          "text": [
            "Downloading https://zenodo.org/record/6496656/files/retinamnist.npz?download=1 to /root/.medmnist/retinamnist.npz\n"
          ]
        },
        {
          "output_type": "display_data",
          "data": {
            "text/plain": [
              "  0%|          | 0/3291041 [00:00<?, ?it/s]"
            ],
            "application/vnd.jupyter.widget-view+json": {
              "version_major": 2,
              "version_minor": 0,
              "model_id": "672b90656dbb45aa87fc1e33d92ed3d8"
            }
          },
          "metadata": {}
        },
        {
          "output_type": "stream",
          "name": "stdout",
          "text": [
            "Using downloaded and verified file: /root/.medmnist/retinamnist.npz\n"
          ]
        },
        {
          "output_type": "execute_result",
          "data": {
            "text/plain": [
              "<matplotlib.image.AxesImage at 0x7f8fee3399d0>"
            ]
          },
          "metadata": {},
          "execution_count": 6
        },
        {
          "output_type": "display_data",
          "data": {
            "text/plain": [
              "<Figure size 432x288 with 1 Axes>"
            ],
            "image/png": "[encoded data removed]"
          },
          "metadata": {}
        }
      ],
      "source": [
        "import medmnist\n",
        "from medmnist import INFO  # , Evaluator\n",
        "import matplotlib.pyplot as plt\n",
        "\n",
        "DataClass = getattr(medmnist, INFO[\"retinamnist\"][\"python_class\"])\n",
        "\n",
        "train_retina_dataset = DataClass(split=\"train\", download=True)\n",
        "val_retina_dataset = DataClass(split=\"val\", download=True)\n",
        "\n",
        "plt.imshow(val_retina_dataset[0][0])"
      ]
    },
    {
      "cell_type": "code",
      "execution_count": 59,
      "metadata": {
        "id": "uqCWYM39Z40v",
        "colab": {
          "base_uri": "https://localhost:8080/"
        },
        "outputId": "c131d0c5-c43a-48a5-b60b-1e562722d564"
      },
      "outputs": [
        {
          "output_type": "execute_result",
          "data": {
            "text/plain": [
              "{'python_class': 'RetinaMNIST',\n",
              " 'description': 'The RetinaMNIST is based on the DeepDRiD challenge, which provides a dataset of 1,600 retina fundus images. The task is ordinal regression for 5-level grading of diabetic retinopathy severity. We split the source training set with a ratio of 9:1 into training and validation set, and use the source validation set as the test set. The source images of 3×1,736×1,824 are center-cropped and resized into 3×28×28.',\n",
              " 'url': 'https://zenodo.org/record/6496656/files/retinamnist.npz?download=1',\n",
              " 'MD5': 'bd4c0672f1bba3e3a89f0e4e876791e4',\n",
              " 'task': 'ordinal-regression',\n",
              " 'label': {'0': '0', '1': '1', '2': '2', '3': '3', '4': '4'},\n",
              " 'n_channels': 3,\n",
              " 'n_samples': {'train': 1080, 'val': 120, 'test': 400},\n",
              " 'license': 'CC BY 4.0'}"
            ]
          },
          "metadata": {},
          "execution_count": 59
        }
      ],
      "source": [
        "info = val_retina_dataset.info\n",
        "info"
      ]
    },
    {
      "cell_type": "code",
      "execution_count": 8,
      "metadata": {
        "id": "TgtnqH-oZ40w",
        "colab": {
          "base_uri": "https://localhost:8080/"
        },
        "outputId": "9461f7f2-31ae-47ee-c70e-aa726fc04d02"
      },
      "outputs": [
        {
          "output_type": "stream",
          "name": "stdout",
          "text": [
            "labels (120, 1)\n",
            "images (120, 28, 28, 3)\n"
          ]
        }
      ],
      "source": [
        "print(\"labels\", val_retina_dataset.labels.shape)\n",
        "print(\"images\", val_retina_dataset.imgs.shape)"
      ]
    },
    {
      "cell_type": "code",
      "execution_count": 9,
      "metadata": {
        "id": "VbMrFRhKZ40w"
      },
      "outputs": [],
      "source": [
        "def cast2torch(ds):\n",
        "    ds.targets = ds.labels\n",
        "    ds.data = ds.imgs\n",
        "    ds.classes = list(info[\"label\"].values())\n",
        "\n",
        "\n",
        "cast2torch(val_retina_dataset)\n",
        "cast2torch(train_retina_dataset)"
      ]
    },
    {
      "cell_type": "code",
      "source": [
        "# method for display all class samples from dataset\n",
        "def show_ds(ds):\n",
        "    fig, axs = plt.subplots(1, len(ds.classes), figsize=(20, 5))\n",
        "    for cls_num, name in enumerate(ds.classes):\n",
        "        i = np.argwhere(ds.targets == cls_num)[0][0]\n",
        "        inverted = 255 - ds.data[i]\n",
        "        ax = axs[cls_num]\n",
        "        ax.imshow(inverted, cmap=\"Greys_r\")\n",
        "        ax.set_title(name)\n",
        "        ax.axis(\"off\")\n",
        "    plt.show()"
      ],
      "metadata": {
        "id": "GZOa6ox70LX8"
      },
      "execution_count": 11,
      "outputs": []
    },
    {
      "cell_type": "code",
      "execution_count": 12,
      "metadata": {
        "id": "yGjoYdP5Z40w",
        "colab": {
          "base_uri": "https://localhost:8080/",
          "height": 177
        },
        "outputId": "13947279-3515-49a7-e69d-21eede579585"
      },
      "outputs": [
        {
          "output_type": "display_data",
          "data": {
            "text/plain": [
              "<Figure size 1440x360 with 5 Axes>"
            ],
            "image/png": "[encoded data removed]"
          },
          "metadata": {}
        }
      ],
      "source": [
        "show_ds(val_retina_dataset)"
      ]
    },
    {
      "cell_type": "code",
      "execution_count": 13,
      "metadata": {
        "id": "HcaLZhOgZ40w",
        "colab": {
          "base_uri": "https://localhost:8080/",
          "height": 86,
          "referenced_widgets": [
            "3b58c642854b4a2fb597b2da42df9adc",
            "3c33382682424c399fda47f3933e3f4d",
            "88fee112febb49469e52b8f3c19da43b",
            "c02d03134bb2406e8816fdcb58842340",
            "04b4251e05d24e11a30c87a6d3f79939",
            "0146296a0f1d480fa1e34efc7fa90a0a",
            "ea40915316be409b82ce7a4a1182f28b",
            "3a5be2b015ac4814973db2e28f39da50",
            "cdd87b6da3e943cd8777568a1e8ea904",
            "a6859861c36f496f9734b2b8d02c0d48",
            "51031e791f694db4b6c85b1124fc06ce"
          ]
        },
        "outputId": "26221e7b-9bbf-4eff-dae2-6d2369db786e"
      },
      "outputs": [
        {
          "output_type": "stream",
          "name": "stdout",
          "text": [
            "Downloading https://zenodo.org/record/6496656/files/bloodmnist.npz?download=1 to /root/.medmnist/bloodmnist.npz\n"
          ]
        },
        {
          "output_type": "display_data",
          "data": {
            "text/plain": [
              "  0%|          | 0/35461855 [00:00<?, ?it/s]"
            ],
            "application/vnd.jupyter.widget-view+json": {
              "version_major": 2,
              "version_minor": 0,
              "model_id": "3b58c642854b4a2fb597b2da42df9adc"
            }
          },
          "metadata": {}
        }
      ],
      "source": [
        "DataClass = getattr(medmnist, INFO[\"bloodmnist\"][\"python_class\"])\n",
        "test_blood_dataset = DataClass(split=\"test\", download=True)\n",
        "cast2torch(test_blood_dataset)"
      ]
    },
    {
      "cell_type": "code",
      "execution_count": 14,
      "metadata": {
        "id": "XQ5IsZ05Z40w",
        "colab": {
          "base_uri": "https://localhost:8080/",
          "height": 177
        },
        "outputId": "8b33e9a1-bed8-45fc-9ac3-cedf0e72683a"
      },
      "outputs": [
        {
          "output_type": "display_data",
          "data": {
            "text/plain": [
              "<Figure size 1440x360 with 5 Axes>"
            ],
            "image/png": "[encoded data removed]"
          },
          "metadata": {}
        }
      ],
      "source": [
        "show_ds(test_blood_dataset)"
      ]
    },
    {
      "cell_type": "code",
      "execution_count": 15,
      "metadata": {
        "id": "rD0MggimZ40x"
      },
      "outputs": [],
      "source": [
        "from torch.utils.data import DataLoader\n",
        "from torchvision import transforms\n",
        "\n",
        "\n",
        "data_transform = transforms.Compose(\n",
        "    [\n",
        "        # Convert all images to Grayscale fo sake of MNIST compatibility\n",
        "        transforms.Grayscale(num_output_channels=1),\n",
        "        transforms.ToTensor(),\n",
        "    ]\n",
        ")\n",
        "\n",
        "train_retina_dataset.transform = data_transform\n",
        "val_retina_dataset.transform = data_transform\n",
        "test_blood_dataset.transform = data_transform\n",
        "\n",
        "# encapsulate data into dataloader form\n",
        "train_loader = DataLoader(train_retina_dataset, batch_size=128, shuffle=True)\n",
        "val_loader = DataLoader(val_retina_dataset, batch_size=1, shuffle=False)\n",
        "blood_loader = DataLoader(test_blood_dataset, batch_size=1, shuffle=False)"
      ]
    },
    {
      "cell_type": "code",
      "source": [
        "latent_dim = 2 # size of latent space\n",
        "learning_rate = 1e-4 \n",
        "encoder = Encoder(latent_size=latent_dim)\n",
        "decoder = Decoder(latent_size=latent_dim)\n",
        "\n",
        "encoder = encoder.to(device)\n",
        "decoder = decoder.to(device)\n",
        "\n",
        "optimizer = optim.Adam(\n",
        "    chain(encoder.parameters(), decoder.parameters()), lr=learning_rate\n",
        ")"
      ],
      "metadata": {
        "id": "sI4fa5HgJ_AJ"
      },
      "execution_count": 16,
      "outputs": []
    },
    {
      "cell_type": "code",
      "execution_count": 19,
      "metadata": {
        "id": "aGjZiCiyZ40x",
        "colab": {
          "base_uri": "https://localhost:8080/"
        },
        "outputId": "105301ba-0b4f-42e7-bb8b-33c4d9822b19"
      },
      "outputs": [
        {
          "output_type": "stream",
          "name": "stdout",
          "text": [
            "Train Epoch: 1 [0/1080 (0%)]\tLoss: 0.461650\n",
            "Train Epoch: 2 [0/1080 (0%)]\tLoss: 0.469369\n",
            "Train Epoch: 3 [0/1080 (0%)]\tLoss: 0.467117\n",
            "Train Epoch: 4 [0/1080 (0%)]\tLoss: 0.465137\n",
            "Train Epoch: 5 [0/1080 (0%)]\tLoss: 0.474794\n",
            "Train Epoch: 6 [0/1080 (0%)]\tLoss: 0.469947\n",
            "Train Epoch: 7 [0/1080 (0%)]\tLoss: 0.469772\n",
            "Train Epoch: 8 [0/1080 (0%)]\tLoss: 0.471172\n",
            "Train Epoch: 9 [0/1080 (0%)]\tLoss: 0.456265\n"
          ]
        }
      ],
      "source": [
        "# Train\n",
        "for i in range(1, 10):\n",
        "    train(\n",
        "        encoder=encoder,\n",
        "        decoder=decoder,\n",
        "        optimizer=optimizer,\n",
        "        loader=train_loader,\n",
        "        epoch=i,\n",
        "        single_pass_handler=ae_pass_handler,\n",
        "        loss_handler=ae_loss_handler,\n",
        "        log_interval=100,\n",
        "    )"
      ]
    },
    {
      "cell_type": "code",
      "source": [
        "encoder = encoder.eval()\n",
        "decoder = decoder.eval()"
      ],
      "metadata": {
        "id": "o7fBu1djKVlx"
      },
      "execution_count": 21,
      "outputs": []
    },
    {
      "cell_type": "code",
      "source": [
        "run_res = run_eval(encoder, decoder, val_loader, ae_pass_handler)"
      ],
      "metadata": {
        "id": "Lno33-42KWF-"
      },
      "execution_count": 22,
      "outputs": []
    },
    {
      "cell_type": "code",
      "source": [
        "def plot_pic(*args, invert_colors=True, digit_size=28, name=None, single_size=2):\n",
        "    args = [x.squeeze() for x in args]\n",
        "    n = min([x.shape[0] for x in args])\n",
        "    figure = np.zeros((digit_size * len(args), digit_size * n))\n",
        "\n",
        "    for i in range(n):\n",
        "        for j in range(len(args)):\n",
        "            figure[\n",
        "                j * digit_size : (j + 1) * digit_size,\n",
        "                i * digit_size : (i + 1) * digit_size,\n",
        "            ] = args[j][i].squeeze()\n",
        "\n",
        "    if invert_colors:\n",
        "        figure = 1 - figure\n",
        "\n",
        "    plt.figure(figsize=(single_size * n, single_size * len(args)))\n",
        "\n",
        "    plt.imshow(figure, cmap=\"Greys_r\", clim=(0, 1))\n",
        "\n",
        "    plt.grid(False)\n",
        "    ax = plt.gca()\n",
        "    ax.get_xaxis().set_visible(False)\n",
        "    ax.get_yaxis().set_visible(False)\n",
        "    if name is not None:\n",
        "        plt.savefig(name)\n",
        "    plt.show()"
      ],
      "metadata": {
        "id": "gmhs8XeMKrX7"
      },
      "execution_count": 41,
      "outputs": []
    },
    {
      "cell_type": "code",
      "source": [
        "plot_pic(run_res['real'][0:9], run_res['reconstr'][0:9])"
      ],
      "metadata": {
        "colab": {
          "base_uri": "https://localhost:8080/",
          "height": 207
        },
        "id": "OAbo-KZpKcvM",
        "outputId": "7fd392d0-5948-4012-994e-75f5263cac62"
      },
      "execution_count": 42,
      "outputs": [
        {
          "output_type": "display_data",
          "data": {
            "text/plain": [
              "<Figure size 1296x288 with 1 Axes>"
            ],
            "image/png": "[encoded data removed]"
          },
          "metadata": {}
        }
      ]
    },
    {
      "cell_type": "code",
      "source": [
        "reconstr = torch.tensor(run_res['reconstr'])\n",
        "real = torch.tensor(run_res['real'])\n",
        "loss_retina = F.binary_cross_entropy(reconstr, real)"
      ],
      "metadata": {
        "id": "yLSmXfCvUdwM"
      },
      "execution_count": 43,
      "outputs": []
    },
    {
      "cell_type": "code",
      "source": [
        "run_res = run_eval(encoder, decoder, blood_loader, ae_pass_handler)"
      ],
      "metadata": {
        "id": "CCJfidhpMAOh"
      },
      "execution_count": 44,
      "outputs": []
    },
    {
      "cell_type": "code",
      "source": [
        "plot_pic(run_res['real'][0:9], run_res['reconstr'][0:9])"
      ],
      "metadata": {
        "colab": {
          "base_uri": "https://localhost:8080/",
          "height": 207
        },
        "id": "wNq9s3eFMOLs",
        "outputId": "87567945-e94a-41f7-911e-02dccb480ea6"
      },
      "execution_count": 45,
      "outputs": [
        {
          "output_type": "display_data",
          "data": {
            "text/plain": [
              "<Figure size 1296x288 with 1 Axes>"
            ],
            "image/png": "[encoded data removed]"
          },
          "metadata": {}
        }
      ]
    },
    {
      "cell_type": "code",
      "source": [
        "reconstr = torch.tensor(run_res['reconstr'])\n",
        "real = torch.tensor(run_res['real'])\n",
        "loss_blood = F.binary_cross_entropy(reconstr, real)"
      ],
      "metadata": {
        "id": "xdN0jeeFT-Pi"
      },
      "execution_count": 46,
      "outputs": []
    },
    {
      "cell_type": "code",
      "source": [
        "print(f'Loss on retina {loss_retina}')\n",
        "print(f'Loss on blood {loss_blood}')"
      ],
      "metadata": {
        "colab": {
          "base_uri": "https://localhost:8080/"
        },
        "id": "-paRHU7nUxS7",
        "outputId": "d93692f4-aec2-44ff-bea1-eb20411c89e5"
      },
      "execution_count": 47,
      "outputs": [
        {
          "output_type": "stream",
          "name": "stdout",
          "text": [
            "Loss on retina 0.4669610857963562\n",
            "Loss on blood 0.896140992641449\n"
          ]
        }
      ]
    },
    {
      "cell_type": "code",
      "source": [
        "border_loss = (loss_blood+loss_retina)/2\n",
        "print(f'Border Loss {border_loss}')"
      ],
      "metadata": {
        "colab": {
          "base_uri": "https://localhost:8080/"
        },
        "id": "mAHLSqA7Vc-s",
        "outputId": "ee3b9848-a476-49ec-8b6f-3291e3291368"
      },
      "execution_count": 48,
      "outputs": [
        {
          "output_type": "stream",
          "name": "stdout",
          "text": [
            "Border Loss 0.6815510392189026\n"
          ]
        }
      ]
    },
    {
      "cell_type": "code",
      "source": [
        "count_blood = 0\n",
        "for i in range(3421):\n",
        "    one_loss_blood = F.binary_cross_entropy(reconstr[i], real[i])\n",
        "    if one_loss_blood > border_loss:\n",
        "      count_blood += 1"
      ],
      "metadata": {
        "id": "ZwVLUT7HWCnx"
      },
      "execution_count": 50,
      "outputs": []
    },
    {
      "cell_type": "code",
      "source": [
        "run_res = run_eval(encoder, decoder, val_loader, ae_pass_handler)"
      ],
      "metadata": {
        "id": "3CVG4ZvXWwSH"
      },
      "execution_count": 52,
      "outputs": []
    },
    {
      "cell_type": "code",
      "source": [
        "reconstr = torch.tensor(run_res['reconstr'])\n",
        "real = torch.tensor(run_res['real'])\n",
        "loss_blood = F.binary_cross_entropy(reconstr, real)"
      ],
      "metadata": {
        "id": "r1YkrDROW8AH"
      },
      "execution_count": 53,
      "outputs": []
    },
    {
      "cell_type": "code",
      "source": [
        "count_retina = 0\n",
        "for i in range(120):\n",
        "    one_loss_blood = F.binary_cross_entropy(reconstr[i], real[i])\n",
        "    if one_loss_blood > border_loss:\n",
        "      count_retina += 1"
      ],
      "metadata": {
        "id": "x-Vp6fsnXAP9"
      },
      "execution_count": 55,
      "outputs": []
    },
    {
      "cell_type": "code",
      "source": [
        "acc_blood = count_blood/3421\n",
        "acc_retina = count_retina/120"
      ],
      "metadata": {
        "id": "9hsHxchUXaUn"
      },
      "execution_count": 56,
      "outputs": []
    },
    {
      "cell_type": "code",
      "source": [
        "print(f'{count_retina} images out of 120 were droped in retina dataset ({\"%.2f\" % acc_retina}%)')\n",
        "print(f'{count_blood} images out of 3421 were droped in blood dataset ({\"%.2f\" % acc_blood}%)')"
      ],
      "metadata": {
        "colab": {
          "base_uri": "https://localhost:8080/"
        },
        "id": "0VgaYXVOXJxV",
        "outputId": "4d0f3da2-a7e0-4430-fe03-09679bf70a6d"
      },
      "execution_count": 57,
      "outputs": [
        {
          "output_type": "stream",
          "name": "stdout",
          "text": [
            "0 images out of 120 were droped in retina dataset (0.00%)\n",
            "3270 images out of 3421 were droped in blood dataset (0.96%)\n"
          ]
        }
      ]
    }
  ],
  "metadata": {
    "colab": {
      "provenance": [],
      "toc_visible": true
    },
    "gpuClass": "standard",
    "language_info": {
      "name": "python"
    },
    "kernelspec": {
      "name": "python3",
      "display_name": "Python 3"
    },
    "accelerator": "GPU",
    "widgets": {
      "application/vnd.jupyter.widget-state+json": {
        "672b90656dbb45aa87fc1e33d92ed3d8": {
          "model_module": "@jupyter-widgets/controls",
          "model_name": "HBoxModel",
          "model_module_version": "1.5.0",
          "state": {
            "_dom_classes": [],
            "_model_module": "@jupyter-widgets/controls",
            "_model_module_version": "1.5.0",
            "_model_name": "HBoxModel",
            "_view_count": null,
            "_view_module": "@jupyter-widgets/controls",
            "_view_module_version": "1.5.0",
            "_view_name": "HBoxView",
            "box_style": "",
            "children": [
              "IPY_MODEL_1e74f2e6d7cf44fda631ece51c351b18",
              "IPY_MODEL_9f787d312462432e97009ae2164799ab",
              "IPY_MODEL_30d471eb9f19493096b81bcc61930af7"
            ],
            "layout": "IPY_MODEL_41627873ba134f4d96b940f15c220eb1"
          }
        },
        "1e74f2e6d7cf44fda631ece51c351b18": {
          "model_module": "@jupyter-widgets/controls",
          "model_name": "HTMLModel",
          "model_module_version": "1.5.0",
          "state": {
            "_dom_classes": [],
            "_model_module": "@jupyter-widgets/controls",
            "_model_module_version": "1.5.0",
            "_model_name": "HTMLModel",
            "_view_count": null,
            "_view_module": "@jupyter-widgets/controls",
            "_view_module_version": "1.5.0",
            "_view_name": "HTMLView",
            "description": "",
            "description_tooltip": null,
            "layout": "IPY_MODEL_16b0a10cc7244ea1a48374da5d7e6c01",
            "placeholder": "​",
            "style": "IPY_MODEL_631302c199204421afd4eca5b3f8ecbe",
            "value": "100%"
          }
        },
        "9f787d312462432e97009ae2164799ab": {
          "model_module": "@jupyter-widgets/controls",
          "model_name": "FloatProgressModel",
          "model_module_version": "1.5.0",
          "state": {
            "_dom_classes": [],
            "_model_module": "@jupyter-widgets/controls",
            "_model_module_version": "1.5.0",
            "_model_name": "FloatProgressModel",
            "_view_count": null,
            "_view_module": "@jupyter-widgets/controls",
            "_view_module_version": "1.5.0",
            "_view_name": "ProgressView",
            "bar_style": "success",
            "description": "",
            "description_tooltip": null,
            "layout": "IPY_MODEL_6e1bf2d80c0f4a198e5cf4f83b428cbd",
            "max": 3291041,
            "min": 0,
            "orientation": "horizontal",
            "style": "IPY_MODEL_7fcd82be85a44efe978e7d80551a7136",
            "value": 3291041
          }
        },
        "30d471eb9f19493096b81bcc61930af7": {
          "model_module": "@jupyter-widgets/controls",
          "model_name": "HTMLModel",
          "model_module_version": "1.5.0",
          "state": {
            "_dom_classes": [],
            "_model_module": "@jupyter-widgets/controls",
            "_model_module_version": "1.5.0",
            "_model_name": "HTMLModel",
            "_view_count": null,
            "_view_module": "@jupyter-widgets/controls",
            "_view_module_version": "1.5.0",
            "_view_name": "HTMLView",
            "description": "",
            "description_tooltip": null,
            "layout": "IPY_MODEL_5f8afe439d6b4bb7b6a782f606dc01cf",
            "placeholder": "​",
            "style": "IPY_MODEL_e8d66e794b4d4cf7abc4ff792fcac05d",
            "value": " 3291041/3291041 [00:07&lt;00:00, 441185.00it/s]"
          }
        },
        "41627873ba134f4d96b940f15c220eb1": {
          "model_module": "@jupyter-widgets/base",
          "model_name": "LayoutModel",
          "model_module_version": "1.2.0",
          "state": {
            "_model_module": "@jupyter-widgets/base",
            "_model_module_version": "1.2.0",
            "_model_name": "LayoutModel",
            "_view_count": null,
            "_view_module": "@jupyter-widgets/base",
            "_view_module_version": "1.2.0",
            "_view_name": "LayoutView",
            "align_content": null,
            "align_items": null,
            "align_self": null,
            "border": null,
            "bottom": null,
            "display": null,
            "flex": null,
            "flex_flow": null,
            "grid_area": null,
            "grid_auto_columns": null,
            "grid_auto_flow": null,
            "grid_auto_rows": null,
            "grid_column": null,
            "grid_gap": null,
            "grid_row": null,
            "grid_template_areas": null,
            "grid_template_columns": null,
            "grid_template_rows": null,
            "height": null,
            "justify_content": null,
            "justify_items": null,
            "left": null,
            "margin": null,
            "max_height": null,
            "max_width": null,
            "min_height": null,
            "min_width": null,
            "object_fit": null,
            "object_position": null,
            "order": null,
            "overflow": null,
            "overflow_x": null,
            "overflow_y": null,
            "padding": null,
            "right": null,
            "top": null,
            "visibility": null,
            "width": null
          }
        },
        "16b0a10cc7244ea1a48374da5d7e6c01": {
          "model_module": "@jupyter-widgets/base",
          "model_name": "LayoutModel",
          "model_module_version": "1.2.0",
          "state": {
            "_model_module": "@jupyter-widgets/base",
            "_model_module_version": "1.2.0",
            "_model_name": "LayoutModel",
            "_view_count": null,
            "_view_module": "@jupyter-widgets/base",
            "_view_module_version": "1.2.0",
            "_view_name": "LayoutView",
            "align_content": null,
            "align_items": null,
            "align_self": null,
            "border": null,
            "bottom": null,
            "display": null,
            "flex": null,
            "flex_flow": null,
            "grid_area": null,
            "grid_auto_columns": null,
            "grid_auto_flow": null,
            "grid_auto_rows": null,
            "grid_column": null,
            "grid_gap": null,
            "grid_row": null,
            "grid_template_areas": null,
            "grid_template_columns": null,
            "grid_template_rows": null,
            "height": null,
            "justify_content": null,
            "justify_items": null,
            "left": null,
            "margin": null,
            "max_height": null,
            "max_width": null,
            "min_height": null,
            "min_width": null,
            "object_fit": null,
            "object_position": null,
            "order": null,
            "overflow": null,
            "overflow_x": null,
            "overflow_y": null,
            "padding": null,
            "right": null,
            "top": null,
            "visibility": null,
            "width": null
          }
        },
        "631302c199204421afd4eca5b3f8ecbe": {
          "model_module": "@jupyter-widgets/controls",
          "model_name": "DescriptionStyleModel",
          "model_module_version": "1.5.0",
          "state": {
            "_model_module": "@jupyter-widgets/controls",
            "_model_module_version": "1.5.0",
            "_model_name": "DescriptionStyleModel",
            "_view_count": null,
            "_view_module": "@jupyter-widgets/base",
            "_view_module_version": "1.2.0",
            "_view_name": "StyleView",
            "description_width": ""
          }
        },
        "6e1bf2d80c0f4a198e5cf4f83b428cbd": {
          "model_module": "@jupyter-widgets/base",
          "model_name": "LayoutModel",
          "model_module_version": "1.2.0",
          "state": {
            "_model_module": "@jupyter-widgets/base",
            "_model_module_version": "1.2.0",
            "_model_name": "LayoutModel",
            "_view_count": null,
            "_view_module": "@jupyter-widgets/base",
            "_view_module_version": "1.2.0",
            "_view_name": "LayoutView",
            "align_content": null,
            "align_items": null,
            "align_self": null,
            "border": null,
            "bottom": null,
            "display": null,
            "flex": null,
            "flex_flow": null,
            "grid_area": null,
            "grid_auto_columns": null,
            "grid_auto_flow": null,
            "grid_auto_rows": null,
            "grid_column": null,
            "grid_gap": null,
            "grid_row": null,
            "grid_template_areas": null,
            "grid_template_columns": null,
            "grid_template_rows": null,
            "height": null,
            "justify_content": null,
            "justify_items": null,
            "left": null,
            "margin": null,
            "max_height": null,
            "max_width": null,
            "min_height": null,
            "min_width": null,
            "object_fit": null,
            "object_position": null,
            "order": null,
            "overflow": null,
            "overflow_x": null,
            "overflow_y": null,
            "padding": null,
            "right": null,
            "top": null,
            "visibility": null,
            "width": null
          }
        },
        "7fcd82be85a44efe978e7d80551a7136": {
          "model_module": "@jupyter-widgets/controls",
          "model_name": "ProgressStyleModel",
          "model_module_version": "1.5.0",
          "state": {
            "_model_module": "@jupyter-widgets/controls",
            "_model_module_version": "1.5.0",
            "_model_name": "ProgressStyleModel",
            "_view_count": null,
            "_view_module": "@jupyter-widgets/base",
            "_view_module_version": "1.2.0",
            "_view_name": "StyleView",
            "bar_color": null,
            "description_width": ""
          }
        },
        "5f8afe439d6b4bb7b6a782f606dc01cf": {
          "model_module": "@jupyter-widgets/base",
          "model_name": "LayoutModel",
          "model_module_version": "1.2.0",
          "state": {
            "_model_module": "@jupyter-widgets/base",
            "_model_module_version": "1.2.0",
            "_model_name": "LayoutModel",
            "_view_count": null,
            "_view_module": "@jupyter-widgets/base",
            "_view_module_version": "1.2.0",
            "_view_name": "LayoutView",
            "align_content": null,
            "align_items": null,
            "align_self": null,
            "border": null,
            "bottom": null,
            "display": null,
            "flex": null,
            "flex_flow": null,
            "grid_area": null,
            "grid_auto_columns": null,
            "grid_auto_flow": null,
            "grid_auto_rows": null,
            "grid_column": null,
            "grid_gap": null,
            "grid_row": null,
            "grid_template_areas": null,
            "grid_template_columns": null,
            "grid_template_rows": null,
            "height": null,
            "justify_content": null,
            "justify_items": null,
            "left": null,
            "margin": null,
            "max_height": null,
            "max_width": null,
            "min_height": null,
            "min_width": null,
            "object_fit": null,
            "object_position": null,
            "order": null,
            "overflow": null,
            "overflow_x": null,
            "overflow_y": null,
            "padding": null,
            "right": null,
            "top": null,
            "visibility": null,
            "width": null
          }
        },
        "e8d66e794b4d4cf7abc4ff792fcac05d": {
          "model_module": "@jupyter-widgets/controls",
          "model_name": "DescriptionStyleModel",
          "model_module_version": "1.5.0",
          "state": {
            "_model_module": "@jupyter-widgets/controls",
            "_model_module_version": "1.5.0",
            "_model_name": "DescriptionStyleModel",
            "_view_count": null,
            "_view_module": "@jupyter-widgets/base",
            "_view_module_version": "1.2.0",
            "_view_name": "StyleView",
            "description_width": ""
          }
        },
        "3b58c642854b4a2fb597b2da42df9adc": {
          "model_module": "@jupyter-widgets/controls",
          "model_name": "HBoxModel",
          "model_module_version": "1.5.0",
          "state": {
            "_dom_classes": [],
            "_model_module": "@jupyter-widgets/controls",
            "_model_module_version": "1.5.0",
            "_model_name": "HBoxModel",
            "_view_count": null,
            "_view_module": "@jupyter-widgets/controls",
            "_view_module_version": "1.5.0",
            "_view_name": "HBoxView",
            "box_style": "",
            "children": [
              "IPY_MODEL_3c33382682424c399fda47f3933e3f4d",
              "IPY_MODEL_88fee112febb49469e52b8f3c19da43b",
              "IPY_MODEL_c02d03134bb2406e8816fdcb58842340"
            ],
            "layout": "IPY_MODEL_04b4251e05d24e11a30c87a6d3f79939"
          }
        },
        "3c33382682424c399fda47f3933e3f4d": {
          "model_module": "@jupyter-widgets/controls",
          "model_name": "HTMLModel",
          "model_module_version": "1.5.0",
          "state": {
            "_dom_classes": [],
            "_model_module": "@jupyter-widgets/controls",
            "_model_module_version": "1.5.0",
            "_model_name": "HTMLModel",
            "_view_count": null,
            "_view_module": "@jupyter-widgets/controls",
            "_view_module_version": "1.5.0",
            "_view_name": "HTMLView",
            "description": "",
            "description_tooltip": null,
            "layout": "IPY_MODEL_0146296a0f1d480fa1e34efc7fa90a0a",
            "placeholder": "​",
            "style": "IPY_MODEL_ea40915316be409b82ce7a4a1182f28b",
            "value": "100%"
          }
        },
        "88fee112febb49469e52b8f3c19da43b": {
          "model_module": "@jupyter-widgets/controls",
          "model_name": "FloatProgressModel",
          "model_module_version": "1.5.0",
          "state": {
            "_dom_classes": [],
            "_model_module": "@jupyter-widgets/controls",
            "_model_module_version": "1.5.0",
            "_model_name": "FloatProgressModel",
            "_view_count": null,
            "_view_module": "@jupyter-widgets/controls",
            "_view_module_version": "1.5.0",
            "_view_name": "ProgressView",
            "bar_style": "success",
            "description": "",
            "description_tooltip": null,
            "layout": "IPY_MODEL_3a5be2b015ac4814973db2e28f39da50",
            "max": 35461855,
            "min": 0,
            "orientation": "horizontal",
            "style": "IPY_MODEL_cdd87b6da3e943cd8777568a1e8ea904",
            "value": 35461855
          }
        },
        "c02d03134bb2406e8816fdcb58842340": {
          "model_module": "@jupyter-widgets/controls",
          "model_name": "HTMLModel",
          "model_module_version": "1.5.0",
          "state": {
            "_dom_classes": [],
            "_model_module": "@jupyter-widgets/controls",
            "_model_module_version": "1.5.0",
            "_model_name": "HTMLModel",
            "_view_count": null,
            "_view_module": "@jupyter-widgets/controls",
            "_view_module_version": "1.5.0",
            "_view_name": "HTMLView",
            "description": "",
            "description_tooltip": null,
            "layout": "IPY_MODEL_a6859861c36f496f9734b2b8d02c0d48",
            "placeholder": "​",
            "style": "IPY_MODEL_51031e791f694db4b6c85b1124fc06ce",
            "value": " 35461855/35461855 [01:25&lt;00:00, 429826.83it/s]"
          }
        },
        "04b4251e05d24e11a30c87a6d3f79939": {
          "model_module": "@jupyter-widgets/base",
          "model_name": "LayoutModel",
          "model_module_version": "1.2.0",
          "state": {
            "_model_module": "@jupyter-widgets/base",
            "_model_module_version": "1.2.0",
            "_model_name": "LayoutModel",
            "_view_count": null,
            "_view_module": "@jupyter-widgets/base",
            "_view_module_version": "1.2.0",
            "_view_name": "LayoutView",
            "align_content": null,
            "align_items": null,
            "align_self": null,
            "border": null,
            "bottom": null,
            "display": null,
            "flex": null,
            "flex_flow": null,
            "grid_area": null,
            "grid_auto_columns": null,
            "grid_auto_flow": null,
            "grid_auto_rows": null,
            "grid_column": null,
            "grid_gap": null,
            "grid_row": null,
            "grid_template_areas": null,
            "grid_template_columns": null,
            "grid_template_rows": null,
            "height": null,
            "justify_content": null,
            "justify_items": null,
            "left": null,
            "margin": null,
            "max_height": null,
            "max_width": null,
            "min_height": null,
            "min_width": null,
            "object_fit": null,
            "object_position": null,
            "order": null,
            "overflow": null,
            "overflow_x": null,
            "overflow_y": null,
            "padding": null,
            "right": null,
            "top": null,
            "visibility": null,
            "width": null
          }
        },
        "0146296a0f1d480fa1e34efc7fa90a0a": {
          "model_module": "@jupyter-widgets/base",
          "model_name": "LayoutModel",
          "model_module_version": "1.2.0",
          "state": {
            "_model_module": "@jupyter-widgets/base",
            "_model_module_version": "1.2.0",
            "_model_name": "LayoutModel",
            "_view_count": null,
            "_view_module": "@jupyter-widgets/base",
            "_view_module_version": "1.2.0",
            "_view_name": "LayoutView",
            "align_content": null,
            "align_items": null,
            "align_self": null,
            "border": null,
            "bottom": null,
            "display": null,
            "flex": null,
            "flex_flow": null,
            "grid_area": null,
            "grid_auto_columns": null,
            "grid_auto_flow": null,
            "grid_auto_rows": null,
            "grid_column": null,
            "grid_gap": null,
            "grid_row": null,
            "grid_template_areas": null,
            "grid_template_columns": null,
            "grid_template_rows": null,
            "height": null,
            "justify_content": null,
            "justify_items": null,
            "left": null,
            "margin": null,
            "max_height": null,
            "max_width": null,
            "min_height": null,
            "min_width": null,
            "object_fit": null,
            "object_position": null,
            "order": null,
            "overflow": null,
            "overflow_x": null,
            "overflow_y": null,
            "padding": null,
            "right": null,
            "top": null,
            "visibility": null,
            "width": null
          }
        },
        "ea40915316be409b82ce7a4a1182f28b": {
          "model_module": "@jupyter-widgets/controls",
          "model_name": "DescriptionStyleModel",
          "model_module_version": "1.5.0",
          "state": {
            "_model_module": "@jupyter-widgets/controls",
            "_model_module_version": "1.5.0",
            "_model_name": "DescriptionStyleModel",
            "_view_count": null,
            "_view_module": "@jupyter-widgets/base",
            "_view_module_version": "1.2.0",
            "_view_name": "StyleView",
            "description_width": ""
          }
        },
        "3a5be2b015ac4814973db2e28f39da50": {
          "model_module": "@jupyter-widgets/base",
          "model_name": "LayoutModel",
          "model_module_version": "1.2.0",
          "state": {
            "_model_module": "@jupyter-widgets/base",
            "_model_module_version": "1.2.0",
            "_model_name": "LayoutModel",
            "_view_count": null,
            "_view_module": "@jupyter-widgets/base",
            "_view_module_version": "1.2.0",
            "_view_name": "LayoutView",
            "align_content": null,
            "align_items": null,
            "align_self": null,
            "border": null,
            "bottom": null,
            "display": null,
            "flex": null,
            "flex_flow": null,
            "grid_area": null,
            "grid_auto_columns": null,
            "grid_auto_flow": null,
            "grid_auto_rows": null,
            "grid_column": null,
            "grid_gap": null,
            "grid_row": null,
            "grid_template_areas": null,
            "grid_template_columns": null,
            "grid_template_rows": null,
            "height": null,
            "justify_content": null,
            "justify_items": null,
            "left": null,
            "margin": null,
            "max_height": null,
            "max_width": null,
            "min_height": null,
            "min_width": null,
            "object_fit": null,
            "object_position": null,
            "order": null,
            "overflow": null,
            "overflow_x": null,
            "overflow_y": null,
            "padding": null,
            "right": null,
            "top": null,
            "visibility": null,
            "width": null
          }
        },
        "cdd87b6da3e943cd8777568a1e8ea904": {
          "model_module": "@jupyter-widgets/controls",
          "model_name": "ProgressStyleModel",
          "model_module_version": "1.5.0",
          "state": {
            "_model_module": "@jupyter-widgets/controls",
            "_model_module_version": "1.5.0",
            "_model_name": "ProgressStyleModel",
            "_view_count": null,
            "_view_module": "@jupyter-widgets/base",
            "_view_module_version": "1.2.0",
            "_view_name": "StyleView",
            "bar_color": null,
            "description_width": ""
          }
        },
        "a6859861c36f496f9734b2b8d02c0d48": {
          "model_module": "@jupyter-widgets/base",
          "model_name": "LayoutModel",
          "model_module_version": "1.2.0",
          "state": {
            "_model_module": "@jupyter-widgets/base",
            "_model_module_version": "1.2.0",
            "_model_name": "LayoutModel",
            "_view_count": null,
            "_view_module": "@jupyter-widgets/base",
            "_view_module_version": "1.2.0",
            "_view_name": "LayoutView",
            "align_content": null,
            "align_items": null,
            "align_self": null,
            "border": null,
            "bottom": null,
            "display": null,
            "flex": null,
            "flex_flow": null,
            "grid_area": null,
            "grid_auto_columns": null,
            "grid_auto_flow": null,
            "grid_auto_rows": null,
            "grid_column": null,
            "grid_gap": null,
            "grid_row": null,
            "grid_template_areas": null,
            "grid_template_columns": null,
            "grid_template_rows": null,
            "height": null,
            "justify_content": null,
            "justify_items": null,
            "left": null,
            "margin": null,
            "max_height": null,
            "max_width": null,
            "min_height": null,
            "min_width": null,
            "object_fit": null,
            "object_position": null,
            "order": null,
            "overflow": null,
            "overflow_x": null,
            "overflow_y": null,
            "padding": null,
            "right": null,
            "top": null,
            "visibility": null,
            "width": null
          }
        },
        "51031e791f694db4b6c85b1124fc06ce": {
          "model_module": "@jupyter-widgets/controls",
          "model_name": "DescriptionStyleModel",
          "model_module_version": "1.5.0",
          "state": {
            "_model_module": "@jupyter-widgets/controls",
            "_model_module_version": "1.5.0",
            "_model_name": "DescriptionStyleModel",
            "_view_count": null,
            "_view_module": "@jupyter-widgets/base",
            "_view_module_version": "1.2.0",
            "_view_name": "StyleView",
            "description_width": ""
          }
        }
      }
    }
  },
  "nbformat": 4,
  "nbformat_minor": 0
}